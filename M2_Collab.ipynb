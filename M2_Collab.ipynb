{
  "nbformat": 4,
  "nbformat_minor": 0,
  "metadata": {
    "colab": {
      "name": "Copia de Untitled0.ipynb",
      "provenance": [],
      "collapsed_sections": [],
      "authorship_tag": "ABX9TyPuF17w7pWtDGW9rs19M1h4",
      "include_colab_link": true
    },
    "kernelspec": {
      "name": "python3",
      "display_name": "Python 3"
    },
    "language_info": {
      "name": "python"
    }
  },
  "cells": [
    {
      "cell_type": "markdown",
      "metadata": {
        "id": "view-in-github",
        "colab_type": "text"
      },
      "source": [
        "<a href=\"https://colab.research.google.com/github/AlejRamos/FisicaPArticulas/blob/main/Copia_de_Untitled0.ipynb\" target=\"_parent\"><img src=\"https://colab.research.google.com/assets/colab-badge.svg\" alt=\"Open In Colab\"/></a>"
      ]
    },
    {
      "cell_type": "code",
      "metadata": {
        "colab": {
          "base_uri": "https://localhost:8080/",
          "height": 370
        },
        "id": "KvtMW0zSJArB",
        "outputId": "3468a7ca-cdf8-45b3-83c4-e54997f39665"
      },
      "source": [
        """
        Archivo Para Graficar la masa invariante muon-muon del bosson z
        Creado Por: Alejandro Ramos
        """
        
        "import pandas as pd\n",
        "import numpy as np\n",
        "import matplotlib.pyplot as plt\n",
        "\n",
        "#events = pd.read_csv(\"https://cernbox.cern.ch/index.php/s/5n2wG7OD7a0wYXX/download\")\n",
        "#events.head()\n",
        "\n",
        "datos = np.genfromtxt(\"https://cernbox.cern.ch/index.php/s/5n2wG7OD7a0wYXX/download\", delimiter=\",\",\n",
        "                      names=[\"px\",\"py\",\"pz\",\"E\"])\n",
        "p_t = np.sqrt((datos[\"px\"]**2)+(datos[\"py\"]**2))\n",
        "\n",
        "#plt.hist(p_t)\n",
        "\n",
        "a = len(datos)\n",
        "b=int((a+1)/2)\n",
        "#print(len(datos))\n",
        "\n",
        "\"\"\"\n",
        "En las siguientes lineas esta el codigo donde se crea una matriz\n",
        "con los datos por evento de los momentos y la energia\n",
        "su estrucutra es:\n",
        "evento px_1 py_1 pz_1 E_1 px_2 py_2 pz_2 E_2\n",
        "Con 1 correspondiente al muon negativo y 2 el positivo\n",
        "\"\"\"\n",
        "H = []\n",
        "j = []\n",
        "L = []\n",
        "M2 = []\n",
        "for i in range(b):\n",
        "    j = (i,datos[i*2][0],datos[i*2][1],datos[i*2][2],datos[i*2][3],\n",
        "        datos[i*2+1][0],datos[i*2+1][1],datos[i*2+1][2],datos[i*2+1][3])\n",
        "    H.append(j)\n",
        "    E2 = (H[i][4]+H[i][8])**2\n",
        "    P2 = (H[i][1]+H[i][5])**2 + (H[i][2]+H[i][6])**2 +(H[i][3]+H[i][7])**2\n",
        "    L = E2 - P2\n",
        "    M2.append(L)\n",
        "\n",
        "print(len(H))\n",
        "#print(H[500][2])\n",
        "\n",
        "# np.savetxt(\"Hcito.txt\", H, \n",
        "#             fmt=[\"%.0f\",\"%.5f\",\"%.5f\",\"%.5f\",\"%.5f\",\"%.5f\",\"%.5f\",\"%.5f\",\"%.5f\"],\n",
        "#             header=\"event  px1  py1  pz1  E1  px2 py2  pz2  E2\")\n",
        "\n",
        "print(M2[0])\n",
        "\n",
        "plt.hist(np.sqrt(M2), color=(0.4,0.9,0.4))"
      ],
      "execution_count": 1,
      "outputs": [
        {
          "output_type": "stream",
          "name": "stdout",
          "text": [
            "10000\n",
            
            "8222.72569581376\n"
          ]
        },
        {
          "output_type": "execute_result",
          "data": {
            "text/plain": [
              "(array([  43.,   57.,   95.,  286., 4342., 4765.,  278.,   71.,   41.,\n",
              "          22.]), array([ 54.79257599,  62.04608456,  69.29959314,  76.55310171,\n",
              "         83.80661029,  91.06011886,  98.31362744, 105.56713601,\n",
              "        112.82064459, 120.07415316, 127.32766173]), <a list of 10 Patch objects>)"
            ]
          },
          "metadata": {},
          "execution_count": 1
        },
        {
          "output_type": "display_data",
          "data": {
            "image/png": "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\n",
            "text/plain": [
              "<Figure size 432x288 with 1 Axes>"
            ]
          },
          "metadata": {
            "needs_background": "light"
          }
        }
      ]
    },
    {
      "cell_type": "code",
      "metadata": {
        "id": "Ft0IKlcRkaWS"
      },
      "source": [
        ""
      ],
      "execution_count": null,
      "outputs": []
    },
    {
      "cell_type": "code",
      "metadata": {
        "id": "QPGAjwwDiXUC"
      },
      "source": [
        ""
      ],
      "execution_count": null,
      "outputs": []
    }
  ]
}
