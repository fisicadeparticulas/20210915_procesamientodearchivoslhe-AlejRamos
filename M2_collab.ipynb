{
  "nbformat": 4,
  "nbformat_minor": 0,
  "metadata": {
    "colab": {
      "name": "M2_collab.ipynb",
      "provenance": [],
      "collapsed_sections": [],
      "authorship_tag": "ABX9TyNtVTzg0XWgB5ODclx0EWrb",
      "include_colab_link": true
    },
    "kernelspec": {
      "name": "python3",
      "display_name": "Python 3"
    },
    "language_info": {
      "name": "python"
    }
  },
  "cells": [
    {
      "cell_type": "markdown",
      "metadata": {
        "id": "view-in-github",
        "colab_type": "text"
      },
      "source": [
        "<a href=\"https://colab.research.google.com/github/fisicadeparticulas/20210915_procesamientodearchivoslhe-AlejRamos/blob/main/M2_collab.ipynb\" target=\"_parent\"><img src=\"https://colab.research.google.com/assets/colab-badge.svg\" alt=\"Open In Colab\"/></a>"
      ]
    },
    {
      "cell_type": "code",
      "metadata": {
        "colab": {
          "base_uri": "https://localhost:8080/",
          "height": 546
        },
        "id": "KvtMW0zSJArB",
        "outputId": "425671c7-0416-4607-f7e0-22f0076a73f0"
      },
      "source": [
        "\"\"\"\n",
        "Archivo que grafica la masa invariante muon-muon\n",
        "Creado por Alejandro Ramos\n",
        "\"\"\"\n",
        "\n",
        "import pandas as pd\n",
        "import numpy as np\n",
        "import matplotlib.pyplot as plt\n",
        "\n",
        "#events = pd.read_csv(\"https://cernbox.cern.ch/index.php/s/5n2wG7OD7a0wYXX/download\")\n",
        "#events.head()\n",
        "\n",
        "datos = np.genfromtxt(\"https://cernbox.cern.ch/index.php/s/5n2wG7OD7a0wYXX/download\", delimiter=\",\",\n",
        "                      names=[\"px\",\"py\",\"pz\",\"E\"])\n",
        "p_t = np.sqrt((datos[\"px\"]**2)+(datos[\"py\"]**2))\n",
        "\n",
        "#plt.hist(p_t)\n",
        "\n",
        "a = len(datos)\n",
        "b=int((a+1)/2)\n",
        "#print(len(datos))\n",
        "\n",
        "\"\"\"\n",
        "En las siguientes lineas esta el codigo donde se crea una matriz\n",
        "con los datos por evento de los momentos y la energia\n",
        "su estrucutra es:\n",
        "evento px_1 py_1 pz_1 E_1 px_2 py_2 pz_2 E_2\n",
        "Con 1 correspondiente al muon negativo y 2 el positivo\n",
        "\"\"\"\n",
        "H = []\n",
        "j = []\n",
        "L = []\n",
        "M2 = []\n",
        "for i in range(b):\n",
        "    j = (i,datos[i*2][0],datos[i*2][1],datos[i*2][2],datos[i*2][3],\n",
        "        datos[i*2+1][0],datos[i*2+1][1],datos[i*2+1][2],datos[i*2+1][3])\n",
        "    H.append(j)\n",
        "    E2 = (H[i][4]+H[i][8])**2\n",
        "    P2 = (H[i][1]+H[i][5])**2 + (H[i][2]+H[i][6])**2 +(H[i][3]+H[i][7])**2\n",
        "    L = E2 - P2\n",
        "    M2.append(L)\n",
        "\n",
        "print(len(H))\n",
        "#print(H[500][2])\n",
        "\n",
        "# np.savetxt(\"Hcito.txt\", H, \n",
        "#             fmt=[\"%.0f\",\"%.5f\",\"%.5f\",\"%.5f\",\"%.5f\",\"%.5f\",\"%.5f\",\"%.5f\",\"%.5f\"],\n",
        "#             header=\"event  px1  py1  pz1  E1  px2 py2  pz2  E2\")\n",
        "\n",
        "print(M2[0])\n",
        "\n",
        "#plt.hist(np.sqrt(M2), color=(0.4,0.9,0.4))\n",
        "\n",
        "\"\"\"\n",
        "Vamos a graficar el angulo phi\n",
        "\"\"\"\n",
        "\n",
        "P_t=[]\n",
        "phi=[]\n",
        "phi2=[]\n",
        "Phi=[]\n",
        "Phi2=[]\n",
        "\n",
        "for i in range(len(H)):\n",
        "  P_t=np.sqrt((H[i][1])**2+H[i][2]**2)\n",
        "  phi2=np.arccos(H[i][1]/P_t)\n",
        "  phi=np.arctan(H[i][1]/H[i][2])\n",
        "  Phi2.append(phi2)\n",
        "  Phi.append(phi)\n",
        "\n",
        "plt.figure()\n",
        "plt.hist(Phi2)\n",
        "plt.show()\n",
        "\n",
        "plt.figure()\n",
        "plt.hist(Phi)\n",
        "plt.show()\n"
      ],
      "execution_count": null,
      "outputs": [
        {
          "output_type": "stream",
          "name": "stdout",
          "text": [
            "10000\n",
            "8222.72569581376\n"
          ]
        },
        {
          "output_type": "display_data",
          "data": {
            "image/png": "[encoded data removed]",
            "text/plain": [
              "<Figure size 432x288 with 1 Axes>"
            ]
          },
          "metadata": {
            "needs_background": "light"
          }
        },
        {
          "output_type": "display_data",
          "data": {
            "image/png": "[encoded data removed]",
            "text/plain": [
              "<Figure size 432x288 with 1 Axes>"
            ]
          },
          "metadata": {
            "needs_background": "light"
          }
        }
      ]
    },
    {
      "cell_type": "code",
      "metadata": {
        "id": "k92IyKesZY7d"
      },
      "source": [
        "#@title Example form fields\n",
        "#@markdown Forms support many types of fields.\n",
        "\n",
        "no_type_checking = ''  #@param\n",
        "string_type = 'example'  #@param {type: \"string\"}\n",
        "slider_value = 142  #@param {type: \"slider\", min: 100, max: 200}\n",
        "number = 102  #@param {type: \"number\"}\n",
        "date = '2010-11-05'  #@param {type: \"date\"}\n",
        "pick_me = \"monday\"  #@param ['monday', 'tuesday', 'wednesday', 'thursday']\n",
        "select_or_input = \"apples\" #@param [\"apples\", \"bananas\", \"oranges\"] {allow-input: true}\n",
        "#@markdown ---\n"
      ],
      "execution_count": null,
      "outputs": []
    },
    {
      "cell_type": "code",
      "metadata": {
        "id": "Ft0IKlcRkaWS"
      },
      "source": [
        ""
      ],
      "execution_count": null,
      "outputs": []
    },
    {
      "cell_type": "code",
      "metadata": {
        "id": "QPGAjwwDiXUC"
      },
      "source": [
        ""
      ],
      "execution_count": null,
      "outputs": []
    }
  ]
}